{
 "metadata": {
  "language_info": {
   "codemirror_mode": {
    "name": "ipython",
    "version": 3
   },
   "file_extension": ".py",
   "mimetype": "text/x-python",
   "name": "python",
   "nbconvert_exporter": "python",
   "pygments_lexer": "ipython3",
   "version": "3.8.5"
  },
  "orig_nbformat": 4,
  "kernelspec": {
   "name": "python3",
   "display_name": "Python 3.8.5 64-bit ('base': conda)"
  },
  "interpreter": {
   "hash": "b3ba2566441a7c06988d0923437866b63cedc61552a5af99d1f4fb67d367b25f"
  }
 },
 "nbformat": 4,
 "nbformat_minor": 2,
 "cells": [
  {
   "cell_type": "code",
   "execution_count": 1,
   "metadata": {},
   "outputs": [],
   "source": [
    "import re\n",
    "import string \n",
    "\n",
    "import pandas as pd"
   ]
  },
  {
   "cell_type": "code",
   "execution_count": 2,
   "metadata": {},
   "outputs": [],
   "source": [
    "lampung_df = pd.read_csv(\"datasets/lampung.csv\", encoding='cp1252')\n",
    "lampung_df.columns = [\"words\"]\n",
    "lampung_df['label'] = \"lampung\""
   ]
  },
  {
   "cell_type": "code",
   "execution_count": 3,
   "metadata": {},
   "outputs": [],
   "source": [
    "indonesia_df = pd.read_csv(\"datasets/indonesia.csv\", encoding='cp1252')\n",
    "indonesia_df.columns = [\"words\"]\n",
    "indonesia_df['label'] = \"indonesia\""
   ]
  },
  {
   "cell_type": "code",
   "execution_count": 4,
   "metadata": {},
   "outputs": [
    {
     "output_type": "execute_result",
     "data": {
      "text/plain": [
       "                                                  words      label\n",
       "0                                             dia gemuk  indonesia\n",
       "1                   berkata guru anak-anak jangan takut  indonesia\n",
       "2                                    saya bolos sekolah  indonesia\n",
       "3     dilihat komariyah ayahnya , pak sulaiman kelua...  indonesia\n",
       "4                                 sepertinya masih lama  indonesia\n",
       "...                                                 ...        ...\n",
       "5993    mata pelajaran apa yang kamu sukai di sekolah ?  indonesia\n",
       "5994                      lawan regu nyak kebobolan 1 0    lampung\n",
       "5995                 ngedok sai handak ngedok sai suluh    lampung\n",
       "5996                 pira kali sabah sija dialiri wai ?    lampung\n",
       "5997        warna yang hijau agar kendaraan dapat pergi  indonesia\n",
       "\n",
       "[5998 rows x 2 columns]"
      ],
      "text/html": "<div>\n<style scoped>\n    .dataframe tbody tr th:only-of-type {\n        vertical-align: middle;\n    }\n\n    .dataframe tbody tr th {\n        vertical-align: top;\n    }\n\n    .dataframe thead th {\n        text-align: right;\n    }\n</style>\n<table border=\"1\" class=\"dataframe\">\n  <thead>\n    <tr style=\"text-align: right;\">\n      <th></th>\n      <th>words</th>\n      <th>label</th>\n    </tr>\n  </thead>\n  <tbody>\n    <tr>\n      <th>0</th>\n      <td>dia gemuk</td>\n      <td>indonesia</td>\n    </tr>\n    <tr>\n      <th>1</th>\n      <td>berkata guru anak-anak jangan takut</td>\n      <td>indonesia</td>\n    </tr>\n    <tr>\n      <th>2</th>\n      <td>saya bolos sekolah</td>\n      <td>indonesia</td>\n    </tr>\n    <tr>\n      <th>3</th>\n      <td>dilihat komariyah ayahnya , pak sulaiman kelua...</td>\n      <td>indonesia</td>\n    </tr>\n    <tr>\n      <th>4</th>\n      <td>sepertinya masih lama</td>\n      <td>indonesia</td>\n    </tr>\n    <tr>\n      <th>...</th>\n      <td>...</td>\n      <td>...</td>\n    </tr>\n    <tr>\n      <th>5993</th>\n      <td>mata pelajaran apa yang kamu sukai di sekolah ?</td>\n      <td>indonesia</td>\n    </tr>\n    <tr>\n      <th>5994</th>\n      <td>lawan regu nyak kebobolan 1 0</td>\n      <td>lampung</td>\n    </tr>\n    <tr>\n      <th>5995</th>\n      <td>ngedok sai handak ngedok sai suluh</td>\n      <td>lampung</td>\n    </tr>\n    <tr>\n      <th>5996</th>\n      <td>pira kali sabah sija dialiri wai ?</td>\n      <td>lampung</td>\n    </tr>\n    <tr>\n      <th>5997</th>\n      <td>warna yang hijau agar kendaraan dapat pergi</td>\n      <td>indonesia</td>\n    </tr>\n  </tbody>\n</table>\n<p>5998 rows × 2 columns</p>\n</div>"
     },
     "metadata": {},
     "execution_count": 4
    }
   ],
   "source": [
    "dataframe_df = pd.concat([lampung_df, indonesia_df])\n",
    "dataframe_df = dataframe_df.sample(frac=1).reset_index(drop=True)\n",
    "dataframe_df"
   ]
  },
  {
   "cell_type": "code",
   "execution_count": 5,
   "metadata": {},
   "outputs": [],
   "source": [
    "  def case_folding(text):\n",
    "    text = text.lower() # ubah text menjadi huruf kecil\n",
    "    text = text.strip() # menghapus wihte space pada awal kalimat\n",
    "    text = re.sub(r\"(@\\[A-Za-z0-9]+)|([^0-9A-Za-z \\t])|(\\w+:\\/\\/\\S+)|^rt|http.+?\", \"\", text)\n",
    "    text = text.translate(str.maketrans(\"\",\"\",string.punctuation))\n",
    "    return text\n",
    "\n",
    "dataframe_df['label'] = dataframe_df['label'].apply(case_folding).values"
   ]
  },
  {
   "cell_type": "code",
   "execution_count": 6,
   "metadata": {},
   "outputs": [
    {
     "output_type": "execute_result",
     "data": {
      "text/plain": [
       "                                               words      label\n",
       "0                                          dia gemuk  indonesia\n",
       "1                berkata guru anak-anak jangan takut  indonesia\n",
       "2                                 saya bolos sekolah  indonesia\n",
       "3  dilihat komariyah ayahnya , pak sulaiman kelua...  indonesia\n",
       "4                              sepertinya masih lama  indonesia"
      ],
      "text/html": "<div>\n<style scoped>\n    .dataframe tbody tr th:only-of-type {\n        vertical-align: middle;\n    }\n\n    .dataframe tbody tr th {\n        vertical-align: top;\n    }\n\n    .dataframe thead th {\n        text-align: right;\n    }\n</style>\n<table border=\"1\" class=\"dataframe\">\n  <thead>\n    <tr style=\"text-align: right;\">\n      <th></th>\n      <th>words</th>\n      <th>label</th>\n    </tr>\n  </thead>\n  <tbody>\n    <tr>\n      <th>0</th>\n      <td>dia gemuk</td>\n      <td>indonesia</td>\n    </tr>\n    <tr>\n      <th>1</th>\n      <td>berkata guru anak-anak jangan takut</td>\n      <td>indonesia</td>\n    </tr>\n    <tr>\n      <th>2</th>\n      <td>saya bolos sekolah</td>\n      <td>indonesia</td>\n    </tr>\n    <tr>\n      <th>3</th>\n      <td>dilihat komariyah ayahnya , pak sulaiman kelua...</td>\n      <td>indonesia</td>\n    </tr>\n    <tr>\n      <th>4</th>\n      <td>sepertinya masih lama</td>\n      <td>indonesia</td>\n    </tr>\n  </tbody>\n</table>\n</div>"
     },
     "metadata": {},
     "execution_count": 6
    }
   ],
   "source": [
    "dataframe_df.head()"
   ]
  },
  {
   "cell_type": "code",
   "execution_count": 7,
   "metadata": {},
   "outputs": [],
   "source": [
    "dataframe_df.to_csv('datasets/raw_dataset.csv', index=False)"
   ]
  }
 ]
}